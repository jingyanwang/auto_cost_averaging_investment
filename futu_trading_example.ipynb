{
 "cells": [
  {
   "cell_type": "markdown",
   "id": "48c4330a",
   "metadata": {},
   "source": [
    "!pip install futu-api"
   ]
  },
  {
   "cell_type": "markdown",
   "id": "271cc224",
   "metadata": {},
   "source": [
    "!pip install yfinance"
   ]
  },
  {
   "cell_type": "markdown",
   "id": "e1e7f30a",
   "metadata": {},
   "source": [
    "https://openapi.moomoo.com/futu-api-doc/en/trade/base.html"
   ]
  },
  {
   "cell_type": "markdown",
   "id": "4b7b8fce",
   "metadata": {},
   "source": [
    "https://www.moomoo.com/download/OpenAPI?_ga=2.209413910.5081162.1671690607-91384723.1670440254"
   ]
  },
  {
   "cell_type": "code",
   "execution_count": 1,
   "id": "7066349b",
   "metadata": {},
   "outputs": [],
   "source": [
    "import yfinance\n",
    "from futu import *"
   ]
  },
  {
   "cell_type": "code",
   "execution_count": 2,
   "id": "5775ac89",
   "metadata": {},
   "outputs": [],
   "source": [
    "daily_amount = 1000"
   ]
  },
  {
   "cell_type": "markdown",
   "id": "38a6e363",
   "metadata": {},
   "source": [
    "# build account"
   ]
  },
  {
   "cell_type": "markdown",
   "id": "6bf7c4e2",
   "metadata": {},
   "source": [
    "https://openapi.moomoo.com/futu-api-doc/en/quick/opend-base.html"
   ]
  },
  {
   "cell_type": "markdown",
   "id": "3283f632",
   "metadata": {},
   "source": [
    "https://openapi.moomoo.com/futu-api-doc/en/trade/base.html"
   ]
  },
  {
   "cell_type": "markdown",
   "id": "5577bc58",
   "metadata": {},
   "source": [
    "https://openapi.moomoo.com/futu-api-doc/en/trade/trade.html#9434"
   ]
  },
  {
   "cell_type": "code",
   "execution_count": 3,
   "id": "f7b00d10",
   "metadata": {},
   "outputs": [
    {
     "name": "stdout",
     "output_type": "stream",
     "text": [
      "\u001b[0;30m2022-12-22 12:11:34,704 | 20724 | [open_context_base.py] _send_init_connect_sync:311: InitConnect ok: conn_id=1, host=127.0.0.1, port=11111, user_id=70981587\u001b[0m\n"
     ]
    }
   ],
   "source": [
    "trd_ctx = OpenSecTradeContext(\n",
    "    filter_trdmarket=TrdMarket.US, \n",
    "    host='127.0.0.1', port=11111, \n",
    "    security_firm = SecurityFirm.FUTUINC,\n",
    "    )"
   ]
  },
  {
   "cell_type": "markdown",
   "id": "8023555f",
   "metadata": {},
   "source": [
    "# calculate today's investment"
   ]
  },
  {
   "cell_type": "markdown",
   "id": "ae98797b",
   "metadata": {},
   "source": [
    "## query historical trading data"
   ]
  },
  {
   "cell_type": "markdown",
   "id": "4452bc4f",
   "metadata": {},
   "source": [
    "https://openapi.moomoo.com/futu-api-doc/en/trade/get-history-order-list.html"
   ]
  },
  {
   "cell_type": "code",
   "execution_count": 4,
   "id": "79c696d5",
   "metadata": {},
   "outputs": [
    {
     "name": "stdout",
     "output_type": "stream",
     "text": [
      "CPU times: total: 0 ns\n",
      "Wall time: 1.45 s\n"
     ]
    }
   ],
   "source": [
    "%%time\n",
    "\n",
    "ret, data = trd_ctx.history_order_list_query(\n",
    "    code = 'US.QQQ'\n",
    "    )"
   ]
  },
  {
   "cell_type": "code",
   "execution_count": 5,
   "id": "e0db81cb",
   "metadata": {},
   "outputs": [],
   "source": [
    "data['amount'] = data['qty'] * data['dealt_avg_price']"
   ]
  },
  {
   "cell_type": "markdown",
   "id": "280bb057",
   "metadata": {},
   "source": [
    "## expected amount of investment"
   ]
  },
  {
   "cell_type": "code",
   "execution_count": 6,
   "id": "c73e8007",
   "metadata": {},
   "outputs": [],
   "source": [
    "data['create_timestamp']= pd.to_datetime(data['create_time'])\n",
    "data['create_date'] = data['create_timestamp'].apply(lambda x: x.strftime('%Y-%m-%d'))\n",
    "invested_days = data['create_date'].unique().size"
   ]
  },
  {
   "cell_type": "code",
   "execution_count": 7,
   "id": "b9d3d03c",
   "metadata": {},
   "outputs": [],
   "source": [
    "expected_total_investment_amount = (invested_days+1)*daily_amount\n",
    "\n",
    "invested_amount = data['amount'].sum()\n",
    "\n",
    "expected_amount_today = expected_total_investment_amount - invested_amount"
   ]
  },
  {
   "cell_type": "markdown",
   "id": "3eeca7a2",
   "metadata": {},
   "source": [
    "## query current price "
   ]
  },
  {
   "cell_type": "code",
   "execution_count": 8,
   "id": "ca145d9c",
   "metadata": {},
   "outputs": [],
   "source": [
    "market_price = yfinance.Ticker('QQQ').info['regularMarketPrice']"
   ]
  },
  {
   "cell_type": "markdown",
   "id": "968967c8",
   "metadata": {},
   "source": [
    "## shares to by"
   ]
  },
  {
   "cell_type": "code",
   "execution_count": 9,
   "id": "5352de3e",
   "metadata": {},
   "outputs": [],
   "source": [
    "shares_to_buy = expected_amount_today/market_price\n",
    "\n",
    "shares_to_buy = round(shares_to_buy)"
   ]
  },
  {
   "cell_type": "code",
   "execution_count": 10,
   "id": "eb1521ca",
   "metadata": {},
   "outputs": [
    {
     "name": "stdout",
     "output_type": "stream",
     "text": [
      "shares_to_buy: 5\n"
     ]
    }
   ],
   "source": [
    "print(f'shares_to_buy: {shares_to_buy}')"
   ]
  },
  {
   "cell_type": "markdown",
   "id": "be644b3e",
   "metadata": {},
   "source": [
    "# trading"
   ]
  },
  {
   "cell_type": "markdown",
   "id": "29f4beed",
   "metadata": {},
   "source": [
    "https://openapi.moomoo.com/futu-api-doc/en/trade/place-order.html"
   ]
  },
  {
   "cell_type": "markdown",
   "id": "61f784d4",
   "metadata": {},
   "source": [
    "pwd_unlock = '123456'\n",
    "\n",
    "ret, data = trd_ctx.unlock_trade(pwd_unlock)  \n",
    "\n",
    "ret, data = trd_ctx.place_order(\n",
    "    price=510.0, \n",
    "    qty=shares_to_buy,\n",
    "    code='US.QQQ', \n",
    "    trd_side=TrdSide.BUY, \n",
    "    trd_env=TrdEnv.SIMULATE)"
   ]
  },
  {
   "cell_type": "markdown",
   "id": "ab8c7d7a",
   "metadata": {},
   "source": [
    "# close the session"
   ]
  },
  {
   "cell_type": "code",
   "execution_count": 11,
   "id": "ae6ba8f0",
   "metadata": {},
   "outputs": [
    {
     "name": "stdout",
     "output_type": "stream",
     "text": [
      "\u001b[0;30m2022-12-22 12:11:38,050 | 20724 | [open_context_base.py] on_disconnect:383: Disconnected: conn_id=1\u001b[0m\n"
     ]
    }
   ],
   "source": [
    "trd_ctx.close()"
   ]
  },
  {
   "cell_type": "markdown",
   "id": "1a95e9db",
   "metadata": {},
   "source": [
    "# end"
   ]
  }
 ],
 "metadata": {
  "kernelspec": {
   "display_name": "Python 3 (ipykernel)",
   "language": "python",
   "name": "python3"
  },
  "language_info": {
   "codemirror_mode": {
    "name": "ipython",
    "version": 3
   },
   "file_extension": ".py",
   "mimetype": "text/x-python",
   "name": "python",
   "nbconvert_exporter": "python",
   "pygments_lexer": "ipython3",
   "version": "3.10.6"
  }
 },
 "nbformat": 4,
 "nbformat_minor": 5
}
