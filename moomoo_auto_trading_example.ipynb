{
 "cells": [
  {
   "cell_type": "markdown",
   "id": "4dd2e2c5",
   "metadata": {},
   "source": [
    "!pip install futu-api"
   ]
  },
  {
   "cell_type": "markdown",
   "id": "79736e3d",
   "metadata": {},
   "source": [
    "!pip install yfinance"
   ]
  },
  {
   "cell_type": "markdown",
   "id": "e1e7f30a",
   "metadata": {},
   "source": [
    "https://openapi.moomoo.com/futu-api-doc/en/trade/base.html"
   ]
  },
  {
   "cell_type": "markdown",
   "id": "4b7b8fce",
   "metadata": {},
   "source": [
    "https://www.moomoo.com/download/OpenAPI?_ga=2.209413910.5081162.1671690607-91384723.1670440254"
   ]
  },
  {
   "cell_type": "code",
   "execution_count": 1,
   "id": "7066349b",
   "metadata": {},
   "outputs": [],
   "source": [
    "import yfinance\n",
    "from futu import *"
   ]
  },
  {
   "cell_type": "code",
   "execution_count": 2,
   "id": "26d6760b",
   "metadata": {},
   "outputs": [],
   "source": [
    "daily_amount = 1000"
   ]
  },
  {
   "cell_type": "markdown",
   "id": "38a6e363",
   "metadata": {},
   "source": [
    "# build session"
   ]
  },
  {
   "cell_type": "markdown",
   "id": "6bf7c4e2",
   "metadata": {},
   "source": [
    "https://openapi.moomoo.com/futu-api-doc/en/quick/opend-base.html"
   ]
  },
  {
   "cell_type": "markdown",
   "id": "3283f632",
   "metadata": {},
   "source": [
    "https://openapi.moomoo.com/futu-api-doc/en/trade/base.html"
   ]
  },
  {
   "cell_type": "markdown",
   "id": "5577bc58",
   "metadata": {},
   "source": [
    "https://openapi.moomoo.com/futu-api-doc/en/trade/trade.html#9434"
   ]
  },
  {
   "cell_type": "code",
   "execution_count": 3,
   "id": "f7b00d10",
   "metadata": {},
   "outputs": [
    {
     "name": "stdout",
     "output_type": "stream",
     "text": [
      "\u001b[0;30m2022-12-22 12:29:04,110 | 17332 | [open_context_base.py] _send_init_connect_sync:311: InitConnect ok: conn_id=1, host=127.0.0.1, port=11111, user_id=70981587\u001b[0m\n"
     ]
    }
   ],
   "source": [
    "trd_ctx = OpenSecTradeContext(\n",
    "    filter_trdmarket=TrdMarket.US, \n",
    "    host='127.0.0.1', port=11111, \n",
    "    security_firm = SecurityFirm.FUTUINC,\n",
    "    )"
   ]
  },
  {
   "cell_type": "markdown",
   "id": "6ae6fcc9",
   "metadata": {},
   "source": [
    "# calculate today's investment"
   ]
  },
  {
   "cell_type": "markdown",
   "id": "ae98797b",
   "metadata": {},
   "source": [
    "## query historical trading data"
   ]
  },
  {
   "cell_type": "markdown",
   "id": "25dada05",
   "metadata": {},
   "source": [
    "https://openapi.moomoo.com/futu-api-doc/en/trade/get-history-order-list.html"
   ]
  },
  {
   "cell_type": "code",
   "execution_count": 4,
   "id": "79c696d5",
   "metadata": {},
   "outputs": [
    {
     "name": "stdout",
     "output_type": "stream",
     "text": [
      "CPU times: total: 46.9 ms\n",
      "Wall time: 252 ms\n"
     ]
    }
   ],
   "source": [
    "%%time\n",
    "\n",
    "ret, data = trd_ctx.history_order_list_query(\n",
    "    code = 'US.QQQ',\n",
    "    start = '2022-11-01 00:00:00',\n",
    "    )"
   ]
  },
  {
   "cell_type": "code",
   "execution_count": 5,
   "id": "c3b15e60",
   "metadata": {},
   "outputs": [],
   "source": [
    "data['amount'] = data['qty'] * data['dealt_avg_price']"
   ]
  },
  {
   "cell_type": "code",
   "execution_count": 6,
   "id": "0f8f672f",
   "metadata": {},
   "outputs": [
    {
     "data": {
      "text/html": [
       "<div>\n",
       "<style scoped>\n",
       "    .dataframe tbody tr th:only-of-type {\n",
       "        vertical-align: middle;\n",
       "    }\n",
       "\n",
       "    .dataframe tbody tr th {\n",
       "        vertical-align: top;\n",
       "    }\n",
       "\n",
       "    .dataframe thead th {\n",
       "        text-align: right;\n",
       "    }\n",
       "</style>\n",
       "<table border=\"1\" class=\"dataframe\">\n",
       "  <thead>\n",
       "    <tr style=\"text-align: right;\">\n",
       "      <th></th>\n",
       "      <th>code</th>\n",
       "      <th>stock_name</th>\n",
       "      <th>trd_side</th>\n",
       "      <th>order_type</th>\n",
       "      <th>order_status</th>\n",
       "      <th>order_id</th>\n",
       "      <th>qty</th>\n",
       "      <th>price</th>\n",
       "      <th>create_time</th>\n",
       "      <th>updated_time</th>\n",
       "      <th>...</th>\n",
       "      <th>last_err_msg</th>\n",
       "      <th>remark</th>\n",
       "      <th>time_in_force</th>\n",
       "      <th>fill_outside_rth</th>\n",
       "      <th>aux_price</th>\n",
       "      <th>trail_type</th>\n",
       "      <th>trail_value</th>\n",
       "      <th>trail_spread</th>\n",
       "      <th>currency</th>\n",
       "      <th>amount</th>\n",
       "    </tr>\n",
       "  </thead>\n",
       "  <tbody>\n",
       "  </tbody>\n",
       "</table>\n",
       "<p>0 rows × 22 columns</p>\n",
       "</div>"
      ],
      "text/plain": [
       "Empty DataFrame\n",
       "Columns: [code, stock_name, trd_side, order_type, order_status, order_id, qty, price, create_time, updated_time, dealt_qty, dealt_avg_price, last_err_msg, remark, time_in_force, fill_outside_rth, aux_price, trail_type, trail_value, trail_spread, currency, amount]\n",
       "Index: []\n",
       "\n",
       "[0 rows x 22 columns]"
      ]
     },
     "execution_count": 6,
     "metadata": {},
     "output_type": "execute_result"
    }
   ],
   "source": [
    "data"
   ]
  },
  {
   "cell_type": "markdown",
   "id": "75335610",
   "metadata": {},
   "source": [
    "## expected amount of investment"
   ]
  },
  {
   "cell_type": "code",
   "execution_count": 7,
   "id": "ca89d1ed",
   "metadata": {},
   "outputs": [],
   "source": [
    "data['create_timestamp']= pd.to_datetime(data['create_time'])\n",
    "data['create_date'] = data['create_timestamp'].apply(lambda x: x.strftime('%Y-%m-%d'))\n",
    "invested_days = data['create_date'].unique().size"
   ]
  },
  {
   "cell_type": "code",
   "execution_count": 8,
   "id": "ab90014b",
   "metadata": {},
   "outputs": [],
   "source": [
    "expected_total_investment_amount = (invested_days+1)*daily_amount\n",
    "\n",
    "invested_amount = data['amount'].sum()\n",
    "\n",
    "expected_amount_today = expected_total_investment_amount - invested_amount"
   ]
  },
  {
   "cell_type": "markdown",
   "id": "bdcb5690",
   "metadata": {},
   "source": [
    "## query current price "
   ]
  },
  {
   "cell_type": "code",
   "execution_count": 9,
   "id": "52211ea8",
   "metadata": {},
   "outputs": [],
   "source": [
    "market_price = yfinance.Ticker('QQQ').info['regularMarketPrice']"
   ]
  },
  {
   "cell_type": "markdown",
   "id": "09d4b846",
   "metadata": {},
   "source": [
    "## shares to by"
   ]
  },
  {
   "cell_type": "code",
   "execution_count": 10,
   "id": "a4322eaf",
   "metadata": {},
   "outputs": [],
   "source": [
    "shares_to_buy = expected_amount_today/market_price\n",
    "\n",
    "shares_to_buy = round(shares_to_buy)"
   ]
  },
  {
   "cell_type": "code",
   "execution_count": 20,
   "id": "e54bcbd9",
   "metadata": {},
   "outputs": [
    {
     "name": "stdout",
     "output_type": "stream",
     "text": [
      "\n",
      "expected_total:\t1000\n",
      "invested_amount:\t0\n",
      "expected_today:\t1000\n",
      "market_price:\t273.45\n",
      "shares_to_buy:\t4\n",
      "\n"
     ]
    }
   ],
   "source": [
    "print(f\"\"\"\n",
    "expected_total:\\t{expected_total_investment_amount}\n",
    "invested_amount:\\t{invested_amount}\n",
    "expected_today:\\t{expected_amount_today}\n",
    "market_price:\\t{market_price}\n",
    "shares_to_buy:\\t{shares_to_buy}\n",
    "\"\"\")"
   ]
  },
  {
   "cell_type": "markdown",
   "id": "d55cd986",
   "metadata": {},
   "source": [
    "# trading"
   ]
  },
  {
   "cell_type": "markdown",
   "id": "d9f25fa5",
   "metadata": {},
   "source": [
    "https://openapi.moomoo.com/futu-api-doc/en/trade/place-order.html"
   ]
  },
  {
   "cell_type": "markdown",
   "id": "800c1043",
   "metadata": {},
   "source": [
    "pwd_unlock = '123456'\n",
    "\n",
    "ret, data = trd_ctx.unlock_trade(pwd_unlock)  \n",
    "\n",
    "ret, data = trd_ctx.place_order(\n",
    "    price=510.0, \n",
    "    qty=shares_to_buy,\n",
    "    code='US.QQQ', \n",
    "    trd_side=TrdSide.BUY, \n",
    "    trd_env=TrdEnv.SIMULATE)"
   ]
  },
  {
   "cell_type": "markdown",
   "id": "e0891e1a",
   "metadata": {},
   "source": [
    "# close the session"
   ]
  },
  {
   "cell_type": "code",
   "execution_count": 12,
   "id": "ae6ba8f0",
   "metadata": {},
   "outputs": [
    {
     "name": "stdout",
     "output_type": "stream",
     "text": [
      "\u001b[0;30m2022-12-22 12:29:06,294 | 17332 | [open_context_base.py] on_disconnect:383: Disconnected: conn_id=1\u001b[0m\n"
     ]
    }
   ],
   "source": [
    "trd_ctx.close()"
   ]
  },
  {
   "cell_type": "markdown",
   "id": "ef2752ab",
   "metadata": {},
   "source": [
    "# end"
   ]
  }
 ],
 "metadata": {
  "kernelspec": {
   "display_name": "Python 3 (ipykernel)",
   "language": "python",
   "name": "python3"
  },
  "language_info": {
   "codemirror_mode": {
    "name": "ipython",
    "version": 3
   },
   "file_extension": ".py",
   "mimetype": "text/x-python",
   "name": "python",
   "nbconvert_exporter": "python",
   "pygments_lexer": "ipython3",
   "version": "3.10.6"
  }
 },
 "nbformat": 4,
 "nbformat_minor": 5
}
